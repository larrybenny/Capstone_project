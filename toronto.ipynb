{
 "cells": [
  {
   "cell_type": "code",
   "execution_count": 9,
   "id": "0df6e225",
   "metadata": {},
   "outputs": [],
   "source": [
    "from bs4 import BeautifulSoup\n",
    "import selenium\n",
    "from selenium.common.exceptions import TimeoutException\n",
    "import pandas as pd\n",
    "from selenium import webdriver\n",
    "import time\n",
    "from selenium.common.exceptions import NoSuchElementException, StaleElementReferenceException\n",
    "import warnings\n",
    "warnings.filterwarnings('ignore')\n",
    "from selenium.webdriver.common.by import By\n",
    "import requests\n",
    "from selenium.webdriver.support import expected_conditions as EC\n",
    "from selenium.webdriver.support.ui import WebDriverWait\n",
    "import requests"
   ]
  },
  {
   "cell_type": "code",
   "execution_count": 2,
   "id": "b634ef15",
   "metadata": {},
   "outputs": [],
   "source": [
    "driver = webdriver.Chrome()"
   ]
  },
  {
   "cell_type": "code",
   "execution_count": 3,
   "id": "c14b43f6",
   "metadata": {},
   "outputs": [],
   "source": [
    "driver.get('https://rentberry.com/ca/apartments/s/toronto-on-canada')\n",
    "time.sleep(2)"
   ]
  },
  {
   "cell_type": "code",
   "execution_count": 4,
   "id": "1a9c1124",
   "metadata": {},
   "outputs": [],
   "source": [
    "consent = driver.find_element(By.XPATH, '/html/body/div[2]/div/div/div/div[2]/button[3]')\n",
    "consent.click()"
   ]
  },
  {
   "cell_type": "code",
   "execution_count": 5,
   "id": "ae8a9e0c",
   "metadata": {},
   "outputs": [],
   "source": [
    "Rent_url = []\n",
    "start = 0\n",
    "end = 10\n",
    "for page in range (start,end):\n",
    "    url = driver.find_elements(By.XPATH,'//a[@class=\"property-card-bottom-address__text link-ghost font-xs one-line-string\"]')\n",
    "    for i in url:\n",
    "        Rent_url.append(i.get_attribute('href'))\n",
    "    \n",
    "    Next_button = driver.find_elements(By.XPATH, '//span[@class=\"pagination-arrow-next\"]')\n",
    "    time.sleep(2)"
   ]
  },
  {
   "cell_type": "code",
   "execution_count": 6,
   "id": "5d9e95d0",
   "metadata": {},
   "outputs": [
    {
     "name": "stdout",
     "output_type": "stream",
     "text": [
      "220\n"
     ]
    }
   ],
   "source": [
    "print(len(Rent_url))"
   ]
  },
  {
   "cell_type": "code",
   "execution_count": 7,
   "id": "e1f355d0",
   "metadata": {},
   "outputs": [],
   "source": [
    "Bed = []\n",
    "Bath = []\n",
    "Area = []\n",
    "Price = []\n",
    "Pets = []\n",
    "Address =[]\n",
    "Deposit = []\n",
    "AC  = []\n",
    "Dishwasher = []\n"
   ]
  },
  {
   "cell_type": "code",
   "execution_count": 11,
   "id": "3878fd23",
   "metadata": {},
   "outputs": [],
   "source": [
    "for url in Rent_url:\n",
    "    driver.get(url)\n",
    "    time.sleep(3)\n",
    "    \n",
    "    try:\n",
    "        bed = driver.find_element(By.XPATH, '//span[@class=\"bedrooms\"]')\n",
    "        Bed.append(bed.text)\n",
    "    except NoSuchElementException:\n",
    "        Bed.append('Null')\n",
    "    try:\n",
    "        bath = driver.find_element(By.XPATH, '//span[@class=\"bathrooms\"]')\n",
    "        Bath.append(bath.text)\n",
    "    except NoSuchElementException:\n",
    "        Bath.append('Null')\n",
    "    try:\n",
    "        area = driver.find_element(By.XPATH, '//div[@class=\"labels__item rb-icon-before rb-icon--square\"][1]')\n",
    "        Area.append(area.text)\n",
    "    except NoSuchElementException:\n",
    "        Area.append('Null')\n",
    "    try:\n",
    "        price = driver.find_element(By.XPATH, '//div[@class=\"d-flex flex-wrap justify-content-center text-left\"]/div[2]')\n",
    "        Price.append(price.text)\n",
    "    except NoSuchElementException:\n",
    "        Price.append('Null')\n",
    "\n",
    "    try:\n",
    "        pets = driver.find_element(By.XPATH, '//div[@class=\"facilities-param ng-star-inserted\"]/span[2]')\n",
    "        Pets.append(pets.text)\n",
    "    except NoSuchElementException:\n",
    "        Pets.append('Null')\n",
    "    try:\n",
    "        address = driver.find_element(By.XPATH, '//span[@class=\"property-data-address-name\"]')\n",
    "        Address.append(address.text)\n",
    "    except NoSuchElementException:\n",
    "        Address.append('Null')\n",
    "    try:\n",
    "        ac = driver.find_element(By.XPATH, '//li[@class=\"col-6\"][1]')\n",
    "        AC.append(ac.text)\n",
    "    except NoSuchElementException:\n",
    "        AC.append('Null')\n",
    "    try:\n",
    "        dishwasher = driver.find_element(By.XPATH, '//li[@class=\"col-6\"][2]')\n",
    "        Dishwasher.append(dishwasher.text)\n",
    "    except NoSuchElementException:\n",
    "        Dishwasher.append('Null')\n",
    "    except TimeoutException as e:\n",
    "        print('Exception Raise:', e)\n",
    "    \n",
    "    "
   ]
  },
  {
   "cell_type": "code",
   "execution_count": 12,
   "id": "bb49138f",
   "metadata": {},
   "outputs": [
    {
     "name": "stdout",
     "output_type": "stream",
     "text": [
      "['1 ', 'Null', '2 ', '1 ', '4 ', '1 ', '2 ', '1 ', '7 ', '2 ', '2 ', '3 ', '1 ', 'Null', '1 ', '1 ', '2 ', '2 ', '2 ', 'Null', '1 ', '2 ', '1 ', 'Null', '2 ', '1 ', '4 ', '1 ', '2 ', '1 ', '7 ', '2 ', '2 ', '3 ', '1 ', 'Null', '1 ', '1 ', '2 ', '2 ', '2 ', 'Null', '1 ', '2 ', '1 ', 'Null', '2 ', '1 ', '4 ', '1 ', '2 ', '1 ', '7 ', '2 ', '2 ', '3 ', '1 ', 'Null', '1 ', '1 ', '2 ', '2 ', '2 ', 'Null', '1 ', '2 ', '1 ', 'Null', '2 ', '1 ', '4 ', '1 ', '2 ', '1 ', '7 ', '2 ', '2 ', '3 ', '1 ', 'Null', '1 ', '1 ', '2 ', '2 ', '2 ', 'Null', '1 ', '2 ', '1 ', 'Null', '2 ', '1 ', '4 ', '1 ', '2 ', '1 ', '7 ', '2 ', '2 ', '3 ', '1 ', 'Null', '1 ', '1 ', '2 ', '2 ', '2 ', 'Null', '1 ', '2 ', '1 ', 'Null', '2 ', '1 ', '4 ', '1 ', '2 ', '1 ', '7 ', '2 ', '2 ', '3 ', '1 ', 'Null', '1 ', '1 ', '2 ', '2 ', '2 ', 'Null', '1 ', '2 ', '1 ', 'Null', '2 ', '1 ', '4 ', '1 ', '2 ', '1 ', '7 ', '2 ', '2 ', '3 ', '1 ', 'Null', '1 ', '1 ', '2 ', '2 ', '2 ', 'Null', '1 ', '2 ', '1 ', 'Null', '2 ', '1 ', '4 ', '1 ', '2 ', '1 ', '7 ', '2 ', '2 ', '3 ', '1 ', 'Null', '1 ', '1 ', '2 ', '2 ', '2 ', 'Null', '1 ', '2 ', 'Null', 'Null', '2 ', '1 ', '4 ', '1 ', '2 ', '1 ', '7 ', '2 ', '2 ', '3 ', '1 ', 'Null', '1 ', '1 ', '2 ', '2 ', '2 ', 'Null', '1 ', '2 ', '1 ', 'Null', '2 ', '1 ', '4 ', '1 ', '2 ', '1 ', '7 ', '2 ', '2 ', '3 ', '1 ', 'Null', '1 ', '1 ', '2 ', '2 ', '2 ', 'Null', '1 ', '2 ']\n"
     ]
    }
   ],
   "source": [
    "print(Bed)"
   ]
  },
  {
   "cell_type": "code",
   "execution_count": 13,
   "id": "2e7e65d7",
   "metadata": {},
   "outputs": [
    {
     "name": "stdout",
     "output_type": "stream",
     "text": [
      "['1 ', '1 ', '2 ', '2 ', '2 ', '1 ', '1 ', '2 ', '5 ', '1 ', '2 ', '1 ', '1 ', 'Null', '1 ', '1 ', '1 ', '1 ', '1 ', 'Null', '1 ', '2 ', '1 ', '1 ', '2 ', '2 ', '2 ', '1 ', '1 ', '2 ', '5 ', '1 ', '2 ', '1 ', '1 ', 'Null', '1 ', '1 ', '1 ', '1 ', '1 ', 'Null', '1 ', '2 ', '1 ', '1 ', '2 ', '2 ', '2 ', '1 ', '1 ', '2 ', '5 ', '1 ', '2 ', '1 ', '1 ', 'Null', '1 ', '1 ', '1 ', '1 ', '1 ', 'Null', '1 ', '2 ', '1 ', '1 ', '2 ', '2 ', '2 ', '1 ', '1 ', '2 ', '5 ', '1 ', '2 ', '1 ', '1 ', 'Null', '1 ', '1 ', '1 ', '1 ', '1 ', 'Null', '1 ', '2 ', '1 ', '1 ', '2 ', '2 ', '2 ', '1 ', '1 ', '2 ', '5 ', '1 ', '2 ', '1 ', '1 ', 'Null', '1 ', '1 ', '1 ', '1 ', '1 ', 'Null', '1 ', '2 ', '1 ', '1 ', '2 ', '2 ', '2 ', '1 ', '1 ', '2 ', '5 ', '1 ', '2 ', '1 ', '1 ', 'Null', '1 ', '1 ', '1 ', '1 ', '1 ', 'Null', '1 ', '2 ', '1 ', '1 ', '2 ', '2 ', '2 ', '1 ', '1 ', '2 ', '5 ', '1 ', '2 ', '1 ', '1 ', 'Null', '1 ', '1 ', '1 ', '1 ', '1 ', 'Null', '1 ', '2 ', '1 ', '1 ', '2 ', '2 ', '2 ', '1 ', '1 ', '2 ', '5 ', '1 ', '2 ', '1 ', '1 ', 'Null', '1 ', '1 ', '1 ', '1 ', '1 ', 'Null', '1 ', '2 ', '1 ', '1 ', '2 ', '2 ', '2 ', '1 ', '1 ', '2 ', '5 ', '1 ', '2 ', '1 ', '1 ', 'Null', '1 ', '1 ', '1 ', '1 ', '1 ', 'Null', '1 ', '2 ', '1 ', '1 ', '2 ', '2 ', '2 ', '1 ', '1 ', '2 ', '5 ', '1 ', '2 ', '1 ', '1 ', 'Null', '1 ', '1 ', '1 ', '1 ', '1 ', 'Null', '1 ', '2 ']\n"
     ]
    }
   ],
   "source": [
    "print(Bath)"
   ]
  },
  {
   "cell_type": "code",
   "execution_count": 14,
   "id": "1def2b94",
   "metadata": {},
   "outputs": [
    {
     "name": "stdout",
     "output_type": "stream",
     "text": [
      "['$2,700 /month', '$2,550 /month', '$5,016 * /month', 'Null', '$5,667 * /month', '$2,700 /month', '$6,280 * /month', '$1,340 * /month', '$31,247 * /month', '$2,680 * /month', '$8,386 * /month', '$8,539 * /month', '$3,025 * /month', '$5,859 * /month', '$2,700 /month', '$2,700 /month', '$7,199 * /month', '$4,250 * /month', '$2,336 * /month', '$29,830 * /month', '$1,050 /month', '$5,667 * /month', '$2,700 /month', '$2,550 /month', '$5,016 * /month', 'Null', '$5,667 * /month', '$2,700 /month', '$6,280 * /month', '$1,340 * /month', '$31,247 * /month', '$2,680 * /month', '$8,386 * /month', '$8,539 * /month', '$3,025 * /month', '$5,859 * /month', '$2,700 /month', '$2,700 /month', '$7,199 * /month', '$4,250 * /month', '$2,336 * /month', '$29,830 * /month', '$1,050 /month', '$5,667 * /month', '$2,700 /month', '$2,550 /month', '$5,016 * /month', 'Null', '$5,667 * /month', '$2,700 /month', '$6,280 * /month', '$1,340 * /month', '$31,247 * /month', '$2,680 * /month', '$8,386 * /month', '$8,539 * /month', '$3,025 * /month', '$5,859 * /month', '$2,700 /month', '$2,700 /month', '$7,199 * /month', '$4,250 * /month', '$2,336 * /month', '$29,830 * /month', '$1,050 /month', '$5,667 * /month', '$2,700 /month', '$2,550 /month', '$5,016 * /month', 'Null', '$5,667 * /month', '$2,700 /month', '$6,280 * /month', '$1,340 * /month', '$31,247 * /month', '$2,680 * /month', '$8,386 * /month', '$8,539 * /month', '$3,025 * /month', '$5,859 * /month', '$2,700 /month', '$2,700 /month', '$7,199 * /month', '$4,250 * /month', '$2,336 * /month', '$29,830 * /month', '$1,050 /month', '$5,667 * /month', '$2,700 /month', '$2,550 /month', '$5,016 * /month', 'Null', '$5,667 * /month', '$2,700 /month', '$6,280 * /month', '$1,340 * /month', '$31,247 * /month', '$2,680 * /month', '$8,386 * /month', '$8,539 * /month', '$3,025 * /month', '$5,859 * /month', '$2,700 /month', '$2,700 /month', '$7,199 * /month', '$4,250 * /month', '$2,336 * /month', '$29,830 * /month', '$1,050 /month', '$5,667 * /month', '$2,700 /month', '$2,550 /month', '$5,016 * /month', 'Null', '$5,667 * /month', '$2,700 /month', '$6,280 * /month', '$1,340 * /month', '$31,247 * /month', '$2,680 * /month', '$8,386 * /month', '$8,539 * /month', '$3,025 * /month', '$5,859 * /month', '$2,700 /month', '$2,700 /month', '$7,199 * /month', '$4,250 * /month', '$2,336 * /month', '$29,830 * /month', '$1,050 /month', '$5,667 * /month', '$2,700 /month', '$2,550 /month', '$5,016 * /month', 'Null', '$5,667 * /month', '$2,700 /month', '$6,280 * /month', '$1,340 * /month', '$31,247 * /month', '$2,680 * /month', '$8,386 * /month', '$8,539 * /month', '$3,025 * /month', '$5,859 * /month', '$2,700 /month', '$2,700 /month', '$7,199 * /month', '$4,250 * /month', '$2,336 * /month', '$29,830 * /month', '$1,050 /month', '$5,667 * /month', '$2,700 /month', '$2,550 /month', '$5,016 * /month', 'Null', '$5,667 * /month', '$2,700 /month', '$6,280 * /month', '$1,340 * /month', '$31,247 * /month', '$2,680 * /month', '$8,386 * /month', '$8,539 * /month', '$3,025 * /month', '$5,859 * /month', '$2,700 /month', '$2,700 /month', '$7,199 * /month', '$4,250 * /month', '$2,336 * /month', '$29,830 * /month', '$1,050 /month', '$5,667 * /month', '$2,700 /month', '$2,550 /month', '$5,016 * /month', 'Null', '$5,667 * /month', '$2,700 /month', '$6,280 * /month', '$1,340 * /month', '$31,247 * /month', '$2,680 * /month', '$8,386 * /month', '$8,539 * /month', '$3,025 * /month', '$5,859 * /month', '$2,700 /month', '$2,700 /month', '$7,199 * /month', '$4,250 * /month', '$2,336 * /month', '$29,830 * /month', '$1,050 /month', '$5,667 * /month', '$2,700 /month', '$2,550 /month', '$5,016 * /month', 'Null', '$5,667 * /month', '$2,700 /month', '$6,280 * /month', '$1,340 * /month', '$31,247 * /month', '$2,680 * /month', '$8,386 * /month', '$8,539 * /month', '$3,025 * /month', '$5,859 * /month', '$2,700 /month', '$2,700 /month', '$7,199 * /month', '$4,250 * /month', '$2,336 * /month', '$29,830 * /month', '$1,050 /month', '$5,667 * /month']\n"
     ]
    }
   ],
   "source": [
    "print(Price)"
   ]
  },
  {
   "cell_type": "code",
   "execution_count": 15,
   "id": "7dd63e18",
   "metadata": {},
   "outputs": [
    {
     "name": "stdout",
     "output_type": "stream",
     "text": [
      "['57 m\\n2', '35 m\\n2', '840 Sq Ft', 'Null', '269 m\\n2', '54 m\\n2', '855 Sq Ft', '2600 m\\n2', 'Null', '800 Sq Ft', '9687 Sq Ft', '1600 Sq Ft', '68 m\\n2', 'Null', '57 m\\n2', '57 m\\n2', '1000 Sq Ft', '133 m\\n2', '117 m\\n2', 'Null', '2600 m\\n2', '85 m\\n2', '57 m\\n2', '35 m\\n2', '840 Sq Ft', 'Null', '269 m\\n2', '54 m\\n2', '855 Sq Ft', '2600 m\\n2', 'Null', '800 Sq Ft', '9687 Sq Ft', '1600 Sq Ft', '68 m\\n2', 'Null', '57 m\\n2', '57 m\\n2', '1000 Sq Ft', '133 m\\n2', '117 m\\n2', 'Null', '2600 m\\n2', '85 m\\n2', '54 m\\n2', '35 m\\n2', '840 Sq Ft', 'Null', '269 m\\n2', '54 m\\n2', '855 Sq Ft', '2600 m\\n2', 'Null', '800 Sq Ft', '9687 Sq Ft', '1600 Sq Ft', '68 m\\n2', 'Null', '54 m\\n2', '54 m\\n2', '1000 Sq Ft', '133 m\\n2', '117 m\\n2', 'Null', '2600 m\\n2', '85 m\\n2', '54 m\\n2', '35 m\\n2', '840 Sq Ft', 'Null', '269 m\\n2', '54 m\\n2', '855 Sq Ft', '2600 m\\n2', 'Null', '800 Sq Ft', '9687 Sq Ft', '1600 Sq Ft', '68 m\\n2', 'Null', '54 m\\n2', '54 m\\n2', '1000 Sq Ft', '133 m\\n2', '117 m\\n2', 'Null', '2600 m\\n2', '85 m\\n2', '57 m\\n2', '35 m\\n2', '840 Sq Ft', 'Null', '269 m\\n2', '57 m\\n2', '855 Sq Ft', '2600 m\\n2', 'Null', '800 Sq Ft', '9687 Sq Ft', '1600 Sq Ft', '68 m\\n2', 'Null', '57 m\\n2', '57 m\\n2', '1000 Sq Ft', '133 m\\n2', '117 m\\n2', 'Null', '2600 m\\n2', '85 m\\n2', '54 m\\n2', '35 m\\n2', '840 Sq Ft', 'Null', '269 m\\n2', '57 m\\n2', '855 Sq Ft', '2600 m\\n2', 'Null', '800 Sq Ft', '9687 Sq Ft', '1600 Sq Ft', '68 m\\n2', 'Null', '57 m\\n2', '57 m\\n2', '1000 Sq Ft', '133 m\\n2', '117 m\\n2', 'Null', '2600 m\\n2', '85 m\\n2', '54 m\\n2', '35 m\\n2', '840 Sq Ft', 'Null', '269 m\\n2', '57 m\\n2', '855 Sq Ft', '2600 m\\n2', 'Null', '800 Sq Ft', '9687 Sq Ft', '1600 Sq Ft', '68 m\\n2', 'Null', '57 m\\n2', '57 m\\n2', '1000 Sq Ft', '133 m\\n2', '117 m\\n2', 'Null', '2600 m\\n2', '85 m\\n2', '54 m\\n2', '35 m\\n2', '840 Sq Ft', 'Null', '269 m\\n2', '57 m\\n2', '855 Sq Ft', '2600 m\\n2', 'Null', '800 Sq Ft', '9687 Sq Ft', '1600 Sq Ft', '68 m\\n2', 'Null', '54 m\\n2', '54 m\\n2', '1000 Sq Ft', '133 m\\n2', '117 m\\n2', 'Null', '2600 m\\n2', '85 m\\n2', '57 m\\n2', '35 m\\n2', '840 Sq Ft', 'Null', '269 m\\n2', '57 m\\n2', '855 Sq Ft', '2600 m\\n2', 'Null', '800 Sq Ft', '9687 Sq Ft', '1600 Sq Ft', '68 m\\n2', 'Null', '54 m\\n2', '54 m\\n2', '1000 Sq Ft', '133 m\\n2', '117 m\\n2', 'Null', '2600 m\\n2', '85 m\\n2', '57 m\\n2', '35 m\\n2', '840 Sq Ft', 'Null', '269 m\\n2', '57 m\\n2', '855 Sq Ft', '2600 m\\n2', 'Null', '800 Sq Ft', '9687 Sq Ft', '1600 Sq Ft', '68 m\\n2', 'Null', '57 m\\n2', '57 m\\n2', '1000 Sq Ft', '133 m\\n2', '117 m\\n2', 'Null', '2600 m\\n2', '85 m\\n2']\n"
     ]
    }
   ],
   "source": [
    "print(Area)"
   ]
  },
  {
   "cell_type": "code",
   "execution_count": 16,
   "id": "6b63768e",
   "metadata": {},
   "outputs": [
    {
     "name": "stdout",
     "output_type": "stream",
     "text": [
      "['Null', 'Null', 'Null', 'Null', 'Null', 'Null', 'Null', 'Null', 'Null', 'Null', 'Null', 'Null', 'Null', 'Null', 'Null', 'Null', 'Null', 'Null', 'Null', 'Null', 'Null', 'Null', 'Null', 'Null', 'Null', 'Null', 'Null', 'Null', 'Null', 'Null', 'Null', 'Null', 'Null', 'Null', 'Null', 'Null', 'Null', 'Null', 'Null', 'Null', 'Null', 'Null', 'Null', 'Null', 'Null', 'Null', 'Null', 'Null', 'Null', 'Null', 'Null', 'Null', 'Null', 'Null', 'Null', 'Null', 'Null', 'Null', 'Null', 'Null', 'Null', 'Null', 'Null', 'Null', 'Null', 'Null', 'Null', 'Null', 'Null', 'Null', 'Null', 'Null', 'Null', 'Null', 'Null', 'Null', 'Null', 'Null', 'Null', 'Null', 'Null', 'Null', 'Null', 'Null', 'Null', 'Null', 'Null', 'Null', 'Null', 'Null', 'Null', 'Null', 'Null', 'Null', 'Null', 'Null', 'Null', 'Null', 'Null', 'Null', 'Null', 'Null', 'Null', 'Null', 'Null', 'Null', 'Null', 'Null', 'Null', 'Null', 'Null', 'Null', 'Null', 'Null', 'Null', 'Null', 'Null', 'Null', 'Null', 'Null', 'Null', 'Null', 'Null', 'Null', 'Null', 'Null', 'Null', 'Null', 'Null', 'Null', 'Null', 'Null', 'Null', 'Null', 'Null', 'Null', 'Null', 'Null', 'Null', 'Null', 'Null', 'Null', 'Null', 'Null', 'Null', 'Null', 'Null', 'Null', 'Null', 'Null', 'Null', 'Null', 'Null', 'Null', 'Null', 'Null', 'Null', 'Null', 'Null', 'Null', 'Null', 'Null', 'Null', 'Null', 'Null', 'Null', 'Null', 'Null', 'Null', 'Null', 'Null', 'Null', 'Null', 'Null', 'Null', 'Null', 'Null', 'Null', 'Null', 'Null', 'Null', 'Null', 'Null', 'Null', 'Null', 'Null', 'Null', 'Null', 'Null', 'Null', 'Null', 'Null', 'Null', 'Null', 'Null', 'Null', 'Null', 'Null', 'Null', 'Null', 'Null', 'Null', 'Null', 'Null', 'Null', 'Null', 'Null', 'Null', 'Null', 'Null', 'Null', 'Null', 'Null', 'Null', 'Null', 'Null', 'Null', 'Null', 'Null', 'Null']\n"
     ]
    }
   ],
   "source": [
    "print(Pets)"
   ]
  },
  {
   "cell_type": "code",
   "execution_count": 17,
   "id": "246b0250",
   "metadata": {},
   "outputs": [
    {
     "name": "stdout",
     "output_type": "stream",
     "text": [
      "['Utilities Included', 'Utilities Included', 'Balcony', 'Air Conditioning', 'Parking', 'Utilities Included', 'Null', 'Fireplace', 'Fireplace', 'Parking', 'Balcony', 'Null', 'Null', 'Parking', 'Utilities Included', 'Utilities Included', 'Parking', 'Parking', 'Parking', 'Null', 'Washer/Dryer In Unit', 'Dishwasher', 'Utilities Included', 'Utilities Included', 'Balcony', 'Air Conditioning', 'Parking', 'Utilities Included', 'Null', 'Fireplace', 'Fireplace', 'Parking', 'Balcony', 'Null', 'Null', 'Parking', 'Utilities Included', 'Utilities Included', 'Parking', 'Parking', 'Parking', 'Null', 'Washer/Dryer In Unit', 'Dishwasher', 'Utilities Included', 'Utilities Included', 'Balcony', 'Air Conditioning', 'Parking', 'Utilities Included', 'Null', 'Fireplace', 'Fireplace', 'Parking', 'Balcony', 'Null', 'Null', 'Parking', 'Utilities Included', 'Utilities Included', 'Parking', 'Parking', 'Parking', 'Null', 'Washer/Dryer In Unit', 'Dishwasher', 'Utilities Included', 'Utilities Included', 'Balcony', 'Air Conditioning', 'Parking', 'Utilities Included', 'Null', 'Fireplace', 'Fireplace', 'Parking', 'Balcony', 'Null', 'Null', 'Parking', 'Utilities Included', 'Utilities Included', 'Parking', 'Parking', 'Parking', 'Null', 'Washer/Dryer In Unit', 'Dishwasher', 'Utilities Included', 'Utilities Included', 'Balcony', 'Air Conditioning', 'Parking', 'Utilities Included', 'Null', 'Fireplace', 'Fireplace', 'Parking', 'Balcony', 'Null', 'Null', 'Parking', 'Utilities Included', 'Utilities Included', 'Parking', 'Parking', 'Parking', 'Null', 'Washer/Dryer In Unit', 'Dishwasher', 'Utilities Included', 'Utilities Included', 'Balcony', 'Air Conditioning', 'Parking', 'Utilities Included', 'Null', 'Fireplace', 'Fireplace', 'Parking', 'Balcony', 'Null', 'Null', 'Parking', 'Utilities Included', 'Utilities Included', 'Parking', 'Parking', 'Parking', 'Null', 'Washer/Dryer In Unit', 'Dishwasher', 'Utilities Included', 'Utilities Included', 'Balcony', 'Air Conditioning', 'Parking', 'Utilities Included', 'Null', 'Fireplace', 'Fireplace', 'Parking', 'Balcony', 'Null', 'Null', 'Parking', 'Utilities Included', 'Utilities Included', 'Parking', 'Parking', 'Parking', 'Null', 'Washer/Dryer In Unit', 'Dishwasher', 'Utilities Included', 'Utilities Included', 'Balcony', 'Air Conditioning', 'Parking', 'Utilities Included', 'Null', 'Fireplace', 'Fireplace', 'Parking', 'Balcony', 'Null', 'Null', 'Parking', 'Utilities Included', 'Utilities Included', 'Parking', 'Parking', 'Parking', 'Null', 'Washer/Dryer In Unit', 'Dishwasher', 'Utilities Included', 'Utilities Included', 'Balcony', 'Air Conditioning', 'Parking', 'Utilities Included', 'Null', 'Fireplace', 'Fireplace', 'Parking', 'Balcony', 'Null', 'Null', 'Parking', 'Utilities Included', 'Utilities Included', 'Parking', 'Parking', 'Parking', 'Null', 'Washer/Dryer In Unit', 'Dishwasher', 'Utilities Included', 'Utilities Included', 'Balcony', 'Air Conditioning', 'Parking', 'Utilities Included', 'Null', 'Fireplace', 'Fireplace', 'Parking', 'Balcony', 'Null', 'Null', 'Parking', 'Utilities Included', 'Utilities Included', 'Parking', 'Parking', 'Parking', 'Null', 'Washer/Dryer In Unit', 'Dishwasher']\n"
     ]
    }
   ],
   "source": [
    "print(Dishwasher)"
   ]
  },
  {
   "cell_type": "code",
   "execution_count": 18,
   "id": "2b115bdc",
   "metadata": {},
   "outputs": [
    {
     "name": "stdout",
     "output_type": "stream",
     "text": [
      "['University Plaza, Richmond Street West, Old Toronto, ON M5V 1V6, Canada', 'Studio 2, 199 Richmond Street West, Old Toronto, ON M5V 1V6, Canada', 'Trefann Court, Toronto, ON M5A 1T6, Canada', '20 Brockton Ave, Toronto, ON M6K 1S5, Canada', 'Bathurst Manor, North York, ON M3H 4J8, Canada', 'University Plaza, Richmond Street West, Old Toronto, ON M5V 1V6, Canada', 'The Danforth, Toronto, ON M4E 2G1, Canada', 'M3K, Canada', 'Corktown, Toronto, ON M5A 3A9, Canada', 'Westminster-Branson, North York, ON M2R 0A5, Canada', 'Toronto, ON M5V 4B2, Canada', 'Pomona Valley, Thornhill, ON L3T 1V9, Canada', 'Yorkville, Toronto, ON M4W 2L4, Canada', '14 Main St', 'University Plaza, Richmond Street West, Old Toronto, ON M5V 1V6, Canada', 'University Plaza, Richmond Street West, Old Toronto, ON M5V 1V6, Canada', 'Toronto, ON M5J 0B1, Canada', 'Willowdale, North York, ON M2N 2B6, Canada', 'Richvale, Richmond Hill, ON L4C 7T9, Canada', 'Yorkville, Toronto, ON M5R 2E4, Canada', 'Toronto, York, ON, CA', 'Spadina, Toronto, ON M5V 0K4, Canada', 'University Plaza, Richmond Street West, Old Toronto, ON M5V 1V6, Canada', 'Studio 2, 199 Richmond Street West, Old Toronto, ON M5V 1V6, Canada', 'Trefann Court, Toronto, ON M5A 1T6, Canada', '20 Brockton Ave, Toronto, ON M6K 1S5, Canada', 'Bathurst Manor, North York, ON M3H 4J8, Canada', 'University Plaza, Richmond Street West, Old Toronto, ON M5V 1V6, Canada', 'The Danforth, Toronto, ON M4E 2G1, Canada', 'M3K, Canada', 'Corktown, Toronto, ON M5A 3A9, Canada', 'Westminster-Branson, North York, ON M2R 0A5, Canada', 'Toronto, ON M5V 4B2, Canada', 'Pomona Valley, Thornhill, ON L3T 1V9, Canada', 'Yorkville, Toronto, ON M4W 2L4, Canada', '14 Main St', 'University Plaza, Richmond Street West, Old Toronto, ON M5V 1V6, Canada', 'University Plaza, Richmond Street West, Old Toronto, ON M5V 1V6, Canada', 'Toronto, ON M5J 0B1, Canada', 'Willowdale, North York, ON M2N 2B6, Canada', 'Richvale, Richmond Hill, ON L4C 7T9, Canada', 'Yorkville, Toronto, ON M5R 2E4, Canada', 'Toronto, York, ON, CA', 'Spadina, Toronto, ON M5V 0K4, Canada', 'University Plaza, Richmond Street West, Old Toronto, ON M5V 1V6, Canada', 'Studio 2, 199 Richmond Street West, Old Toronto, ON M5V 1V6, Canada', 'Trefann Court, Toronto, ON M5A 1T6, Canada', '20 Brockton Ave, Toronto, ON M6K 1S5, Canada', 'Bathurst Manor, North York, ON M3H 4J8, Canada', 'University Plaza, Richmond Street West, Old Toronto, ON M5V 1V6, Canada', 'The Danforth, Toronto, ON M4E 2G1, Canada', 'M3K, Canada', 'Corktown, Toronto, ON M5A 3A9, Canada', 'Westminster-Branson, North York, ON M2R 0A5, Canada', 'Toronto, ON M5V 4B2, Canada', 'Pomona Valley, Thornhill, ON L3T 1V9, Canada', 'Yorkville, Toronto, ON M4W 2L4, Canada', '14 Main St', 'University Plaza, Richmond Street West, Old Toronto, ON M5V 1V6, Canada', 'University Plaza, Richmond Street West, Old Toronto, ON M5V 1V6, Canada', 'Toronto, ON M5J 0B1, Canada', 'Willowdale, North York, ON M2N 2B6, Canada', 'Richvale, Richmond Hill, ON L4C 7T9, Canada', 'Yorkville, Toronto, ON M5R 2E4, Canada', 'Toronto, York, ON, CA', 'Spadina, Toronto, ON M5V 0K4, Canada', 'University Plaza, Richmond Street West, Old Toronto, ON M5V 1V6, Canada', 'Studio 2, 199 Richmond Street West, Old Toronto, ON M5V 1V6, Canada', 'Trefann Court, Toronto, ON M5A 1T6, Canada', '20 Brockton Ave, Toronto, ON M6K 1S5, Canada', 'Bathurst Manor, North York, ON M3H 4J8, Canada', 'University Plaza, Richmond Street West, Old Toronto, ON M5V 1V6, Canada', 'The Danforth, Toronto, ON M4E 2G1, Canada', 'M3K, Canada', 'Corktown, Toronto, ON M5A 3A9, Canada', 'Westminster-Branson, North York, ON M2R 0A5, Canada', 'Toronto, ON M5V 4B2, Canada', 'Pomona Valley, Thornhill, ON L3T 1V9, Canada', 'Yorkville, Toronto, ON M4W 2L4, Canada', '14 Main St', 'University Plaza, Richmond Street West, Old Toronto, ON M5V 1V6, Canada', 'University Plaza, Richmond Street West, Old Toronto, ON M5V 1V6, Canada', 'Toronto, ON M5J 0B1, Canada', 'Willowdale, North York, ON M2N 2B6, Canada', 'Richvale, Richmond Hill, ON L4C 7T9, Canada', 'Yorkville, Toronto, ON M5R 2E4, Canada', 'Toronto, York, ON, CA', 'Spadina, Toronto, ON M5V 0K4, Canada', 'University Plaza, Richmond Street West, Old Toronto, ON M5V 1V6, Canada', 'Studio 2, 199 Richmond Street West, Old Toronto, ON M5V 1V6, Canada', 'Trefann Court, Toronto, ON M5A 1T6, Canada', '20 Brockton Ave, Toronto, ON M6K 1S5, Canada', 'Bathurst Manor, North York, ON M3H 4J8, Canada', 'University Plaza, Richmond Street West, Old Toronto, ON M5V 1V6, Canada', 'The Danforth, Toronto, ON M4E 2G1, Canada', 'M3K, Canada', 'Corktown, Toronto, ON M5A 3A9, Canada', 'Westminster-Branson, North York, ON M2R 0A5, Canada', 'Toronto, ON M5V 4B2, Canada', 'Pomona Valley, Thornhill, ON L3T 1V9, Canada', 'Yorkville, Toronto, ON M4W 2L4, Canada', '14 Main St', 'University Plaza, Richmond Street West, Old Toronto, ON M5V 1V6, Canada', 'University Plaza, Richmond Street West, Old Toronto, ON M5V 1V6, Canada', 'Toronto, ON M5J 0B1, Canada', 'Willowdale, North York, ON M2N 2B6, Canada', 'Richvale, Richmond Hill, ON L4C 7T9, Canada', 'Yorkville, Toronto, ON M5R 2E4, Canada', 'Toronto, York, ON, CA', 'Spadina, Toronto, ON M5V 0K4, Canada', 'University Plaza, Richmond Street West, Old Toronto, ON M5V 1V6, Canada', 'Studio 2, 199 Richmond Street West, Old Toronto, ON M5V 1V6, Canada', 'Trefann Court, Toronto, ON M5A 1T6, Canada', '20 Brockton Ave, Toronto, ON M6K 1S5, Canada', 'Bathurst Manor, North York, ON M3H 4J8, Canada', 'University Plaza, Richmond Street West, Old Toronto, ON M5V 1V6, Canada', 'The Danforth, Toronto, ON M4E 2G1, Canada', 'M3K, Canada', 'Corktown, Toronto, ON M5A 3A9, Canada', 'Westminster-Branson, North York, ON M2R 0A5, Canada', 'Toronto, ON M5V 4B2, Canada', 'Pomona Valley, Thornhill, ON L3T 1V9, Canada', 'Yorkville, Toronto, ON M4W 2L4, Canada', '14 Main St', 'University Plaza, Richmond Street West, Old Toronto, ON M5V 1V6, Canada', 'University Plaza, Richmond Street West, Old Toronto, ON M5V 1V6, Canada', 'Toronto, ON M5J 0B1, Canada', 'Willowdale, North York, ON M2N 2B6, Canada', 'Richvale, Richmond Hill, ON L4C 7T9, Canada', 'Yorkville, Toronto, ON M5R 2E4, Canada', 'Toronto, York, ON, CA', 'Spadina, Toronto, ON M5V 0K4, Canada', 'University Plaza, Richmond Street West, Old Toronto, ON M5V 1V6, Canada', 'Studio 2, 199 Richmond Street West, Old Toronto, ON M5V 1V6, Canada', 'Trefann Court, Toronto, ON M5A 1T6, Canada', '20 Brockton Ave, Toronto, ON M6K 1S5, Canada', 'Bathurst Manor, North York, ON M3H 4J8, Canada', 'University Plaza, Richmond Street West, Old Toronto, ON M5V 1V6, Canada', 'The Danforth, Toronto, ON M4E 2G1, Canada', 'M3K, Canada', 'Corktown, Toronto, ON M5A 3A9, Canada', 'Westminster-Branson, North York, ON M2R 0A5, Canada', 'Toronto, ON M5V 4B2, Canada', 'Pomona Valley, Thornhill, ON L3T 1V9, Canada', 'Yorkville, Toronto, ON M4W 2L4, Canada', '14 Main St', 'University Plaza, Richmond Street West, Old Toronto, ON M5V 1V6, Canada', 'University Plaza, Richmond Street West, Old Toronto, ON M5V 1V6, Canada', 'Toronto, ON M5J 0B1, Canada', 'Willowdale, North York, ON M2N 2B6, Canada', 'Richvale, Richmond Hill, ON L4C 7T9, Canada', 'Yorkville, Toronto, ON M5R 2E4, Canada', 'Toronto, York, ON, CA', 'Spadina, Toronto, ON M5V 0K4, Canada', 'University Plaza, Richmond Street West, Old Toronto, ON M5V 1V6, Canada', 'Studio 2, 199 Richmond Street West, Old Toronto, ON M5V 1V6, Canada', 'Trefann Court, Toronto, ON M5A 1T6, Canada', '20 Brockton Ave, Toronto, ON M6K 1S5, Canada', 'Bathurst Manor, North York, ON M3H 4J8, Canada', 'University Plaza, Richmond Street West, Old Toronto, ON M5V 1V6, Canada', 'The Danforth, Toronto, ON M4E 2G1, Canada', 'M3K, Canada', 'Corktown, Toronto, ON M5A 3A9, Canada', 'Westminster-Branson, North York, ON M2R 0A5, Canada', 'Toronto, ON M5V 4B2, Canada', 'Pomona Valley, Thornhill, ON L3T 1V9, Canada', 'Yorkville, Toronto, ON M4W 2L4, Canada', '14 Main St', 'University Plaza, Richmond Street West, Old Toronto, ON M5V 1V6, Canada', 'University Plaza, Richmond Street West, Old Toronto, ON M5V 1V6, Canada', 'Toronto, ON M5J 0B1, Canada', 'Willowdale, North York, ON M2N 2B6, Canada', 'Richvale, Richmond Hill, ON L4C 7T9, Canada', 'Yorkville, Toronto, ON M5R 2E4, Canada', 'Toronto, York, ON, CA', 'Spadina, Toronto, ON M5V 0K4, Canada', 'University Plaza, Richmond Street West, Old Toronto, ON M5V 1V6, Canada', 'Studio 2, 199 Richmond Street West, Old Toronto, ON M5V 1V6, Canada', 'Trefann Court, Toronto, ON M5A 1T6, Canada', '20 Brockton Ave, Toronto, ON M6K 1S5, Canada', 'Bathurst Manor, North York, ON M3H 4J8, Canada', 'University Plaza, Richmond Street West, Old Toronto, ON M5V 1V6, Canada', 'The Danforth, Toronto, ON M4E 2G1, Canada', 'M3K, Canada', 'Corktown, Toronto, ON M5A 3A9, Canada', 'Westminster-Branson, North York, ON M2R 0A5, Canada', 'Toronto, ON M5V 4B2, Canada', 'Pomona Valley, Thornhill, ON L3T 1V9, Canada', 'Yorkville, Toronto, ON M4W 2L4, Canada', '14 Main St', 'University Plaza, Richmond Street West, Old Toronto, ON M5V 1V6, Canada', 'University Plaza, Richmond Street West, Old Toronto, ON M5V 1V6, Canada', 'Toronto, ON M5J 0B1, Canada', 'Willowdale, North York, ON M2N 2B6, Canada', 'Richvale, Richmond Hill, ON L4C 7T9, Canada', 'Yorkville, Toronto, ON M5R 2E4, Canada', 'Toronto, York, ON, CA', 'Spadina, Toronto, ON M5V 0K4, Canada', 'University Plaza, Richmond Street West, Old Toronto, ON M5V 1V6, Canada', 'Studio 2, 199 Richmond Street West, Old Toronto, ON M5V 1V6, Canada', 'Trefann Court, Toronto, ON M5A 1T6, Canada', '20 Brockton Ave, Toronto, ON M6K 1S5, Canada', 'Bathurst Manor, North York, ON M3H 4J8, Canada', 'University Plaza, Richmond Street West, Old Toronto, ON M5V 1V6, Canada', 'The Danforth, Toronto, ON M4E 2G1, Canada', 'M3K, Canada', 'Corktown, Toronto, ON M5A 3A9, Canada', 'Westminster-Branson, North York, ON M2R 0A5, Canada', 'Toronto, ON M5V 4B2, Canada', 'Pomona Valley, Thornhill, ON L3T 1V9, Canada', 'Yorkville, Toronto, ON M4W 2L4, Canada', '14 Main St', 'University Plaza, Richmond Street West, Old Toronto, ON M5V 1V6, Canada', 'University Plaza, Richmond Street West, Old Toronto, ON M5V 1V6, Canada', 'Toronto, ON M5J 0B1, Canada', 'Willowdale, North York, ON M2N 2B6, Canada', 'Richvale, Richmond Hill, ON L4C 7T9, Canada', 'Yorkville, Toronto, ON M5R 2E4, Canada', 'Toronto, York, ON, CA', 'Spadina, Toronto, ON M5V 0K4, Canada']\n"
     ]
    }
   ],
   "source": [
    "print(Address)"
   ]
  },
  {
   "cell_type": "code",
   "execution_count": 19,
   "id": "9e43da4d",
   "metadata": {},
   "outputs": [
    {
     "name": "stdout",
     "output_type": "stream",
     "text": [
      "['Furnished', 'Furnished', 'Air Conditioning', 'Washer/Dryer In Unit', 'Air Conditioning', 'Furnished', 'Null', 'Air Conditioning', 'Air Conditioning', 'Air Conditioning', 'Air Conditioning', 'Air Conditioning', 'Null', 'Air Conditioning', 'Furnished', 'Furnished', 'Air Conditioning', 'Air Conditioning', 'Air Conditioning', 'Air Conditioning', 'Roof Deck', 'Air Conditioning', 'Furnished', 'Furnished', 'Air Conditioning', 'Washer/Dryer In Unit', 'Air Conditioning', 'Furnished', 'Null', 'Air Conditioning', 'Air Conditioning', 'Air Conditioning', 'Air Conditioning', 'Air Conditioning', 'Null', 'Air Conditioning', 'Furnished', 'Furnished', 'Air Conditioning', 'Air Conditioning', 'Air Conditioning', 'Air Conditioning', 'Roof Deck', 'Air Conditioning', 'Furnished', 'Furnished', 'Air Conditioning', 'Washer/Dryer In Unit', 'Air Conditioning', 'Furnished', 'Null', 'Air Conditioning', 'Air Conditioning', 'Air Conditioning', 'Air Conditioning', 'Air Conditioning', 'Null', 'Air Conditioning', 'Furnished', 'Furnished', 'Air Conditioning', 'Air Conditioning', 'Air Conditioning', 'Air Conditioning', 'Roof Deck', 'Air Conditioning', 'Furnished', 'Furnished', 'Air Conditioning', 'Washer/Dryer In Unit', 'Air Conditioning', 'Furnished', 'Null', 'Air Conditioning', 'Air Conditioning', 'Air Conditioning', 'Air Conditioning', 'Air Conditioning', 'Null', 'Air Conditioning', 'Furnished', 'Furnished', 'Air Conditioning', 'Air Conditioning', 'Air Conditioning', 'Air Conditioning', 'Roof Deck', 'Air Conditioning', 'Furnished', 'Furnished', 'Air Conditioning', 'Washer/Dryer In Unit', 'Air Conditioning', 'Furnished', 'Null', 'Air Conditioning', 'Air Conditioning', 'Air Conditioning', 'Air Conditioning', 'Air Conditioning', 'Null', 'Air Conditioning', 'Furnished', 'Furnished', 'Air Conditioning', 'Air Conditioning', 'Air Conditioning', 'Air Conditioning', 'Roof Deck', 'Air Conditioning', 'Furnished', 'Furnished', 'Air Conditioning', 'Washer/Dryer In Unit', 'Air Conditioning', 'Furnished', 'Null', 'Air Conditioning', 'Air Conditioning', 'Air Conditioning', 'Air Conditioning', 'Air Conditioning', 'Null', 'Air Conditioning', 'Furnished', 'Furnished', 'Air Conditioning', 'Air Conditioning', 'Air Conditioning', 'Air Conditioning', 'Roof Deck', 'Air Conditioning', 'Furnished', 'Furnished', 'Air Conditioning', 'Washer/Dryer In Unit', 'Air Conditioning', 'Furnished', 'Null', 'Air Conditioning', 'Air Conditioning', 'Air Conditioning', 'Air Conditioning', 'Air Conditioning', 'Null', 'Air Conditioning', 'Furnished', 'Furnished', 'Air Conditioning', 'Air Conditioning', 'Air Conditioning', 'Air Conditioning', 'Roof Deck', 'Air Conditioning', 'Furnished', 'Furnished', 'Air Conditioning', 'Washer/Dryer In Unit', 'Air Conditioning', 'Furnished', 'Null', 'Air Conditioning', 'Air Conditioning', 'Air Conditioning', 'Air Conditioning', 'Air Conditioning', 'Null', 'Air Conditioning', 'Furnished', 'Furnished', 'Air Conditioning', 'Air Conditioning', 'Air Conditioning', 'Air Conditioning', 'Roof Deck', 'Air Conditioning', 'Furnished', 'Furnished', 'Air Conditioning', 'Washer/Dryer In Unit', 'Air Conditioning', 'Furnished', 'Null', 'Air Conditioning', 'Air Conditioning', 'Air Conditioning', 'Air Conditioning', 'Air Conditioning', 'Null', 'Air Conditioning', 'Furnished', 'Furnished', 'Air Conditioning', 'Air Conditioning', 'Air Conditioning', 'Air Conditioning', 'Roof Deck', 'Air Conditioning', 'Furnished', 'Furnished', 'Air Conditioning', 'Washer/Dryer In Unit', 'Air Conditioning', 'Furnished', 'Null', 'Air Conditioning', 'Air Conditioning', 'Air Conditioning', 'Air Conditioning', 'Air Conditioning', 'Null', 'Air Conditioning', 'Furnished', 'Furnished', 'Air Conditioning', 'Air Conditioning', 'Air Conditioning', 'Air Conditioning', 'Roof Deck', 'Air Conditioning']\n"
     ]
    }
   ],
   "source": [
    "print(AC)"
   ]
  },
  {
   "cell_type": "code",
   "execution_count": 21,
   "id": "d34743a5",
   "metadata": {},
   "outputs": [
    {
     "data": {
      "text/html": [
       "<div>\n",
       "<style scoped>\n",
       "    .dataframe tbody tr th:only-of-type {\n",
       "        vertical-align: middle;\n",
       "    }\n",
       "\n",
       "    .dataframe tbody tr th {\n",
       "        vertical-align: top;\n",
       "    }\n",
       "\n",
       "    .dataframe thead th {\n",
       "        text-align: right;\n",
       "    }\n",
       "</style>\n",
       "<table border=\"1\" class=\"dataframe\">\n",
       "  <thead>\n",
       "    <tr style=\"text-align: right;\">\n",
       "      <th></th>\n",
       "      <th>Address</th>\n",
       "      <th>Bed</th>\n",
       "      <th>Bath</th>\n",
       "      <th>Area</th>\n",
       "      <th>Pet</th>\n",
       "      <th>Dishwasher</th>\n",
       "      <th>AC</th>\n",
       "      <th>Price</th>\n",
       "    </tr>\n",
       "  </thead>\n",
       "  <tbody>\n",
       "    <tr>\n",
       "      <th>0</th>\n",
       "      <td>University Plaza, Richmond Street West, Old To...</td>\n",
       "      <td>1</td>\n",
       "      <td>1</td>\n",
       "      <td>57 m\\n2</td>\n",
       "      <td>Null</td>\n",
       "      <td>Utilities Included</td>\n",
       "      <td>Furnished</td>\n",
       "      <td>$2,700 /month</td>\n",
       "    </tr>\n",
       "    <tr>\n",
       "      <th>1</th>\n",
       "      <td>Studio 2, 199 Richmond Street West, Old Toront...</td>\n",
       "      <td>Null</td>\n",
       "      <td>1</td>\n",
       "      <td>35 m\\n2</td>\n",
       "      <td>Null</td>\n",
       "      <td>Utilities Included</td>\n",
       "      <td>Furnished</td>\n",
       "      <td>$2,550 /month</td>\n",
       "    </tr>\n",
       "    <tr>\n",
       "      <th>2</th>\n",
       "      <td>Trefann Court, Toronto, ON M5A 1T6, Canada</td>\n",
       "      <td>2</td>\n",
       "      <td>2</td>\n",
       "      <td>840 Sq Ft</td>\n",
       "      <td>Null</td>\n",
       "      <td>Balcony</td>\n",
       "      <td>Air Conditioning</td>\n",
       "      <td>$5,016 * /month</td>\n",
       "    </tr>\n",
       "    <tr>\n",
       "      <th>3</th>\n",
       "      <td>20 Brockton Ave, Toronto, ON M6K 1S5, Canada</td>\n",
       "      <td>1</td>\n",
       "      <td>2</td>\n",
       "      <td>Null</td>\n",
       "      <td>Null</td>\n",
       "      <td>Air Conditioning</td>\n",
       "      <td>Washer/Dryer In Unit</td>\n",
       "      <td>Null</td>\n",
       "    </tr>\n",
       "    <tr>\n",
       "      <th>4</th>\n",
       "      <td>Bathurst Manor, North York, ON M3H 4J8, Canada</td>\n",
       "      <td>4</td>\n",
       "      <td>2</td>\n",
       "      <td>269 m\\n2</td>\n",
       "      <td>Null</td>\n",
       "      <td>Parking</td>\n",
       "      <td>Air Conditioning</td>\n",
       "      <td>$5,667 * /month</td>\n",
       "    </tr>\n",
       "    <tr>\n",
       "      <th>...</th>\n",
       "      <td>...</td>\n",
       "      <td>...</td>\n",
       "      <td>...</td>\n",
       "      <td>...</td>\n",
       "      <td>...</td>\n",
       "      <td>...</td>\n",
       "      <td>...</td>\n",
       "      <td>...</td>\n",
       "    </tr>\n",
       "    <tr>\n",
       "      <th>215</th>\n",
       "      <td>Willowdale, North York, ON M2N 2B6, Canada</td>\n",
       "      <td>2</td>\n",
       "      <td>1</td>\n",
       "      <td>133 m\\n2</td>\n",
       "      <td>Null</td>\n",
       "      <td>Parking</td>\n",
       "      <td>Air Conditioning</td>\n",
       "      <td>$4,250 * /month</td>\n",
       "    </tr>\n",
       "    <tr>\n",
       "      <th>216</th>\n",
       "      <td>Richvale, Richmond Hill, ON L4C 7T9, Canada</td>\n",
       "      <td>2</td>\n",
       "      <td>1</td>\n",
       "      <td>117 m\\n2</td>\n",
       "      <td>Null</td>\n",
       "      <td>Parking</td>\n",
       "      <td>Air Conditioning</td>\n",
       "      <td>$2,336 * /month</td>\n",
       "    </tr>\n",
       "    <tr>\n",
       "      <th>217</th>\n",
       "      <td>Yorkville, Toronto, ON M5R 2E4, Canada</td>\n",
       "      <td>Null</td>\n",
       "      <td>Null</td>\n",
       "      <td>Null</td>\n",
       "      <td>Null</td>\n",
       "      <td>Null</td>\n",
       "      <td>Air Conditioning</td>\n",
       "      <td>$29,830 * /month</td>\n",
       "    </tr>\n",
       "    <tr>\n",
       "      <th>218</th>\n",
       "      <td>Toronto, York, ON, CA</td>\n",
       "      <td>1</td>\n",
       "      <td>1</td>\n",
       "      <td>2600 m\\n2</td>\n",
       "      <td>Null</td>\n",
       "      <td>Washer/Dryer In Unit</td>\n",
       "      <td>Roof Deck</td>\n",
       "      <td>$1,050 /month</td>\n",
       "    </tr>\n",
       "    <tr>\n",
       "      <th>219</th>\n",
       "      <td>Spadina, Toronto, ON M5V 0K4, Canada</td>\n",
       "      <td>2</td>\n",
       "      <td>2</td>\n",
       "      <td>85 m\\n2</td>\n",
       "      <td>Null</td>\n",
       "      <td>Dishwasher</td>\n",
       "      <td>Air Conditioning</td>\n",
       "      <td>$5,667 * /month</td>\n",
       "    </tr>\n",
       "  </tbody>\n",
       "</table>\n",
       "<p>220 rows × 8 columns</p>\n",
       "</div>"
      ],
      "text/plain": [
       "                                               Address   Bed  Bath       Area  \\\n",
       "0    University Plaza, Richmond Street West, Old To...    1     1     57 m\\n2   \n",
       "1    Studio 2, 199 Richmond Street West, Old Toront...  Null    1     35 m\\n2   \n",
       "2           Trefann Court, Toronto, ON M5A 1T6, Canada    2     2   840 Sq Ft   \n",
       "3         20 Brockton Ave, Toronto, ON M6K 1S5, Canada    1     2        Null   \n",
       "4       Bathurst Manor, North York, ON M3H 4J8, Canada    4     2    269 m\\n2   \n",
       "..                                                 ...   ...   ...        ...   \n",
       "215         Willowdale, North York, ON M2N 2B6, Canada    2     1    133 m\\n2   \n",
       "216        Richvale, Richmond Hill, ON L4C 7T9, Canada    2     1    117 m\\n2   \n",
       "217             Yorkville, Toronto, ON M5R 2E4, Canada  Null  Null       Null   \n",
       "218                              Toronto, York, ON, CA    1     1   2600 m\\n2   \n",
       "219               Spadina, Toronto, ON M5V 0K4, Canada    2     2     85 m\\n2   \n",
       "\n",
       "      Pet            Dishwasher                    AC             Price  \n",
       "0    Null    Utilities Included             Furnished     $2,700 /month  \n",
       "1    Null    Utilities Included             Furnished     $2,550 /month  \n",
       "2    Null               Balcony      Air Conditioning   $5,016 * /month  \n",
       "3    Null      Air Conditioning  Washer/Dryer In Unit              Null  \n",
       "4    Null               Parking      Air Conditioning   $5,667 * /month  \n",
       "..    ...                   ...                   ...               ...  \n",
       "215  Null               Parking      Air Conditioning   $4,250 * /month  \n",
       "216  Null               Parking      Air Conditioning   $2,336 * /month  \n",
       "217  Null                  Null      Air Conditioning  $29,830 * /month  \n",
       "218  Null  Washer/Dryer In Unit             Roof Deck     $1,050 /month  \n",
       "219  Null            Dishwasher      Air Conditioning   $5,667 * /month  \n",
       "\n",
       "[220 rows x 8 columns]"
      ]
     },
     "execution_count": 21,
     "metadata": {},
     "output_type": "execute_result"
    }
   ],
   "source": [
    "DF = pd.DataFrame({'Address':Address,'Bed':Bed,'Bath':Bath,'Area':Area,'Pet':Pets,'Dishwasher':Dishwasher,'AC':AC,'Price':Price})\n",
    "DF"
   ]
  },
  {
   "cell_type": "code",
   "execution_count": 22,
   "id": "0e122b5b",
   "metadata": {},
   "outputs": [
    {
     "name": "stdout",
     "output_type": "stream",
     "text": [
      "<class 'pandas.core.frame.DataFrame'>\n",
      "RangeIndex: 220 entries, 0 to 219\n",
      "Data columns (total 8 columns):\n",
      " #   Column      Non-Null Count  Dtype \n",
      "---  ------      --------------  ----- \n",
      " 0   Address     220 non-null    object\n",
      " 1   Bed         220 non-null    object\n",
      " 2   Bath        220 non-null    object\n",
      " 3   Area        220 non-null    object\n",
      " 4   Pet         220 non-null    object\n",
      " 5   Dishwasher  220 non-null    object\n",
      " 6   AC          220 non-null    object\n",
      " 7   Price       220 non-null    object\n",
      "dtypes: object(8)\n",
      "memory usage: 13.9+ KB\n"
     ]
    }
   ],
   "source": [
    "DF.info()"
   ]
  },
  {
   "cell_type": "code",
   "execution_count": 23,
   "id": "ded9fee4",
   "metadata": {},
   "outputs": [],
   "source": [
    "import time\n",
    "import csv"
   ]
  },
  {
   "cell_type": "code",
   "execution_count": 27,
   "id": "920ebd2f",
   "metadata": {},
   "outputs": [
    {
     "ename": "SyntaxError",
     "evalue": "invalid syntax (4097088185.py, line 2)",
     "output_type": "error",
     "traceback": [
      "\u001b[1;36m  File \u001b[1;32m\"C:\\Users\\larry\\AppData\\Local\\Temp\\ipykernel_12632\\4097088185.py\"\u001b[1;36m, line \u001b[1;32m2\u001b[0m\n\u001b[1;33m    with open(csv_file_path, 'w', newline='', encoding='utf-8') as csv_file\u001b[0m\n\u001b[1;37m                                                                           ^\u001b[0m\n\u001b[1;31mSyntaxError\u001b[0m\u001b[1;31m:\u001b[0m invalid syntax\n"
     ]
    }
   ],
   "source": [
    "csv_file_path = 'DF.csv'\n",
    "with open(csv_file_path, 'w', newline='', encoding='utf-8') as csv_file:\n",
    "    csv_writer = csv.writer(csv_file_path)"
   ]
  },
  {
   "cell_type": "code",
   "execution_count": 28,
   "id": "289727e4",
   "metadata": {},
   "outputs": [
    {
     "data": {
      "text/plain": [
       "['df']"
      ]
     },
     "execution_count": 28,
     "metadata": {},
     "output_type": "execute_result"
    }
   ],
   "source": [
    "import joblib\n",
    "joblib.dump(DF,'df')"
   ]
  },
  {
   "cell_type": "code",
   "execution_count": 29,
   "id": "70f4c936",
   "metadata": {},
   "outputs": [],
   "source": [
    "data = joblib.load('df')"
   ]
  },
  {
   "cell_type": "code",
   "execution_count": 30,
   "id": "1ee37f6f",
   "metadata": {},
   "outputs": [
    {
     "data": {
      "text/html": [
       "<div>\n",
       "<style scoped>\n",
       "    .dataframe tbody tr th:only-of-type {\n",
       "        vertical-align: middle;\n",
       "    }\n",
       "\n",
       "    .dataframe tbody tr th {\n",
       "        vertical-align: top;\n",
       "    }\n",
       "\n",
       "    .dataframe thead th {\n",
       "        text-align: right;\n",
       "    }\n",
       "</style>\n",
       "<table border=\"1\" class=\"dataframe\">\n",
       "  <thead>\n",
       "    <tr style=\"text-align: right;\">\n",
       "      <th></th>\n",
       "      <th>Address</th>\n",
       "      <th>Bed</th>\n",
       "      <th>Bath</th>\n",
       "      <th>Area</th>\n",
       "      <th>Pet</th>\n",
       "      <th>Dishwasher</th>\n",
       "      <th>AC</th>\n",
       "      <th>Price</th>\n",
       "    </tr>\n",
       "  </thead>\n",
       "  <tbody>\n",
       "    <tr>\n",
       "      <th>0</th>\n",
       "      <td>University Plaza, Richmond Street West, Old To...</td>\n",
       "      <td>1</td>\n",
       "      <td>1</td>\n",
       "      <td>57 m\\n2</td>\n",
       "      <td>Null</td>\n",
       "      <td>Utilities Included</td>\n",
       "      <td>Furnished</td>\n",
       "      <td>$2,700 /month</td>\n",
       "    </tr>\n",
       "    <tr>\n",
       "      <th>1</th>\n",
       "      <td>Studio 2, 199 Richmond Street West, Old Toront...</td>\n",
       "      <td>Null</td>\n",
       "      <td>1</td>\n",
       "      <td>35 m\\n2</td>\n",
       "      <td>Null</td>\n",
       "      <td>Utilities Included</td>\n",
       "      <td>Furnished</td>\n",
       "      <td>$2,550 /month</td>\n",
       "    </tr>\n",
       "    <tr>\n",
       "      <th>2</th>\n",
       "      <td>Trefann Court, Toronto, ON M5A 1T6, Canada</td>\n",
       "      <td>2</td>\n",
       "      <td>2</td>\n",
       "      <td>840 Sq Ft</td>\n",
       "      <td>Null</td>\n",
       "      <td>Balcony</td>\n",
       "      <td>Air Conditioning</td>\n",
       "      <td>$5,016 * /month</td>\n",
       "    </tr>\n",
       "    <tr>\n",
       "      <th>3</th>\n",
       "      <td>20 Brockton Ave, Toronto, ON M6K 1S5, Canada</td>\n",
       "      <td>1</td>\n",
       "      <td>2</td>\n",
       "      <td>Null</td>\n",
       "      <td>Null</td>\n",
       "      <td>Air Conditioning</td>\n",
       "      <td>Washer/Dryer In Unit</td>\n",
       "      <td>Null</td>\n",
       "    </tr>\n",
       "    <tr>\n",
       "      <th>4</th>\n",
       "      <td>Bathurst Manor, North York, ON M3H 4J8, Canada</td>\n",
       "      <td>4</td>\n",
       "      <td>2</td>\n",
       "      <td>269 m\\n2</td>\n",
       "      <td>Null</td>\n",
       "      <td>Parking</td>\n",
       "      <td>Air Conditioning</td>\n",
       "      <td>$5,667 * /month</td>\n",
       "    </tr>\n",
       "    <tr>\n",
       "      <th>...</th>\n",
       "      <td>...</td>\n",
       "      <td>...</td>\n",
       "      <td>...</td>\n",
       "      <td>...</td>\n",
       "      <td>...</td>\n",
       "      <td>...</td>\n",
       "      <td>...</td>\n",
       "      <td>...</td>\n",
       "    </tr>\n",
       "    <tr>\n",
       "      <th>215</th>\n",
       "      <td>Willowdale, North York, ON M2N 2B6, Canada</td>\n",
       "      <td>2</td>\n",
       "      <td>1</td>\n",
       "      <td>133 m\\n2</td>\n",
       "      <td>Null</td>\n",
       "      <td>Parking</td>\n",
       "      <td>Air Conditioning</td>\n",
       "      <td>$4,250 * /month</td>\n",
       "    </tr>\n",
       "    <tr>\n",
       "      <th>216</th>\n",
       "      <td>Richvale, Richmond Hill, ON L4C 7T9, Canada</td>\n",
       "      <td>2</td>\n",
       "      <td>1</td>\n",
       "      <td>117 m\\n2</td>\n",
       "      <td>Null</td>\n",
       "      <td>Parking</td>\n",
       "      <td>Air Conditioning</td>\n",
       "      <td>$2,336 * /month</td>\n",
       "    </tr>\n",
       "    <tr>\n",
       "      <th>217</th>\n",
       "      <td>Yorkville, Toronto, ON M5R 2E4, Canada</td>\n",
       "      <td>Null</td>\n",
       "      <td>Null</td>\n",
       "      <td>Null</td>\n",
       "      <td>Null</td>\n",
       "      <td>Null</td>\n",
       "      <td>Air Conditioning</td>\n",
       "      <td>$29,830 * /month</td>\n",
       "    </tr>\n",
       "    <tr>\n",
       "      <th>218</th>\n",
       "      <td>Toronto, York, ON, CA</td>\n",
       "      <td>1</td>\n",
       "      <td>1</td>\n",
       "      <td>2600 m\\n2</td>\n",
       "      <td>Null</td>\n",
       "      <td>Washer/Dryer In Unit</td>\n",
       "      <td>Roof Deck</td>\n",
       "      <td>$1,050 /month</td>\n",
       "    </tr>\n",
       "    <tr>\n",
       "      <th>219</th>\n",
       "      <td>Spadina, Toronto, ON M5V 0K4, Canada</td>\n",
       "      <td>2</td>\n",
       "      <td>2</td>\n",
       "      <td>85 m\\n2</td>\n",
       "      <td>Null</td>\n",
       "      <td>Dishwasher</td>\n",
       "      <td>Air Conditioning</td>\n",
       "      <td>$5,667 * /month</td>\n",
       "    </tr>\n",
       "  </tbody>\n",
       "</table>\n",
       "<p>220 rows × 8 columns</p>\n",
       "</div>"
      ],
      "text/plain": [
       "                                               Address   Bed  Bath       Area  \\\n",
       "0    University Plaza, Richmond Street West, Old To...    1     1     57 m\\n2   \n",
       "1    Studio 2, 199 Richmond Street West, Old Toront...  Null    1     35 m\\n2   \n",
       "2           Trefann Court, Toronto, ON M5A 1T6, Canada    2     2   840 Sq Ft   \n",
       "3         20 Brockton Ave, Toronto, ON M6K 1S5, Canada    1     2        Null   \n",
       "4       Bathurst Manor, North York, ON M3H 4J8, Canada    4     2    269 m\\n2   \n",
       "..                                                 ...   ...   ...        ...   \n",
       "215         Willowdale, North York, ON M2N 2B6, Canada    2     1    133 m\\n2   \n",
       "216        Richvale, Richmond Hill, ON L4C 7T9, Canada    2     1    117 m\\n2   \n",
       "217             Yorkville, Toronto, ON M5R 2E4, Canada  Null  Null       Null   \n",
       "218                              Toronto, York, ON, CA    1     1   2600 m\\n2   \n",
       "219               Spadina, Toronto, ON M5V 0K4, Canada    2     2     85 m\\n2   \n",
       "\n",
       "      Pet            Dishwasher                    AC             Price  \n",
       "0    Null    Utilities Included             Furnished     $2,700 /month  \n",
       "1    Null    Utilities Included             Furnished     $2,550 /month  \n",
       "2    Null               Balcony      Air Conditioning   $5,016 * /month  \n",
       "3    Null      Air Conditioning  Washer/Dryer In Unit              Null  \n",
       "4    Null               Parking      Air Conditioning   $5,667 * /month  \n",
       "..    ...                   ...                   ...               ...  \n",
       "215  Null               Parking      Air Conditioning   $4,250 * /month  \n",
       "216  Null               Parking      Air Conditioning   $2,336 * /month  \n",
       "217  Null                  Null      Air Conditioning  $29,830 * /month  \n",
       "218  Null  Washer/Dryer In Unit             Roof Deck     $1,050 /month  \n",
       "219  Null            Dishwasher      Air Conditioning   $5,667 * /month  \n",
       "\n",
       "[220 rows x 8 columns]"
      ]
     },
     "execution_count": 30,
     "metadata": {},
     "output_type": "execute_result"
    }
   ],
   "source": [
    "data"
   ]
  },
  {
   "cell_type": "code",
   "execution_count": 36,
   "id": "43fcb39e",
   "metadata": {},
   "outputs": [
    {
     "data": {
      "text/plain": [
       "'C:\\\\Users\\\\larry'"
      ]
     },
     "execution_count": 36,
     "metadata": {},
     "output_type": "execute_result"
    }
   ],
   "source": [
    "import os\n",
    "os.getcwd()"
   ]
  },
  {
   "cell_type": "code",
   "execution_count": 37,
   "id": "f3f66c10",
   "metadata": {},
   "outputs": [
    {
     "ename": "PermissionError",
     "evalue": "[Errno 13] Permission denied: 'df.xlsx'",
     "output_type": "error",
     "traceback": [
      "\u001b[1;31m---------------------------------------------------------------------------\u001b[0m",
      "\u001b[1;31mPermissionError\u001b[0m                           Traceback (most recent call last)",
      "\u001b[1;32m~\\AppData\\Local\\Temp\\ipykernel_12632\\1844082162.py\u001b[0m in \u001b[0;36m<module>\u001b[1;34m\u001b[0m\n\u001b[1;32m----> 1\u001b[1;33m \u001b[0mdata\u001b[0m\u001b[1;33m.\u001b[0m\u001b[0mto_excel\u001b[0m\u001b[1;33m(\u001b[0m\u001b[1;34m\"df.xlsx\"\u001b[0m\u001b[1;33m,\u001b[0m \u001b[0mindex\u001b[0m \u001b[1;33m=\u001b[0m \u001b[1;32mTrue\u001b[0m\u001b[1;33m,\u001b[0m \u001b[0mheader\u001b[0m \u001b[1;33m=\u001b[0m \u001b[1;32mTrue\u001b[0m\u001b[1;33m)\u001b[0m\u001b[1;33m\u001b[0m\u001b[1;33m\u001b[0m\u001b[0m\n\u001b[0m\u001b[0;32m      2\u001b[0m \u001b[0mprint\u001b[0m\u001b[1;33m(\u001b[0m\u001b[1;34m'spreadsheet saved :'\u001b[0m\u001b[1;33m)\u001b[0m\u001b[1;33m\u001b[0m\u001b[1;33m\u001b[0m\u001b[0m\n",
      "\u001b[1;32m~\\anaconda3\\lib\\site-packages\\pandas\\core\\generic.py\u001b[0m in \u001b[0;36mto_excel\u001b[1;34m(self, excel_writer, sheet_name, na_rep, float_format, columns, header, index, index_label, startrow, startcol, engine, merge_cells, encoding, inf_rep, verbose, freeze_panes, storage_options)\u001b[0m\n\u001b[0;32m   2343\u001b[0m             \u001b[0minf_rep\u001b[0m\u001b[1;33m=\u001b[0m\u001b[0minf_rep\u001b[0m\u001b[1;33m,\u001b[0m\u001b[1;33m\u001b[0m\u001b[1;33m\u001b[0m\u001b[0m\n\u001b[0;32m   2344\u001b[0m         )\n\u001b[1;32m-> 2345\u001b[1;33m         formatter.write(\n\u001b[0m\u001b[0;32m   2346\u001b[0m             \u001b[0mexcel_writer\u001b[0m\u001b[1;33m,\u001b[0m\u001b[1;33m\u001b[0m\u001b[1;33m\u001b[0m\u001b[0m\n\u001b[0;32m   2347\u001b[0m             \u001b[0msheet_name\u001b[0m\u001b[1;33m=\u001b[0m\u001b[0msheet_name\u001b[0m\u001b[1;33m,\u001b[0m\u001b[1;33m\u001b[0m\u001b[1;33m\u001b[0m\u001b[0m\n",
      "\u001b[1;32m~\\anaconda3\\lib\\site-packages\\pandas\\io\\formats\\excel.py\u001b[0m in \u001b[0;36mwrite\u001b[1;34m(self, writer, sheet_name, startrow, startcol, freeze_panes, engine, storage_options)\u001b[0m\n\u001b[0;32m    886\u001b[0m             \u001b[1;31m# error: Cannot instantiate abstract class 'ExcelWriter' with abstract\u001b[0m\u001b[1;33m\u001b[0m\u001b[1;33m\u001b[0m\u001b[0m\n\u001b[0;32m    887\u001b[0m             \u001b[1;31m# attributes 'engine', 'save', 'supported_extensions' and 'write_cells'\u001b[0m\u001b[1;33m\u001b[0m\u001b[1;33m\u001b[0m\u001b[0m\n\u001b[1;32m--> 888\u001b[1;33m             writer = ExcelWriter(  # type: ignore[abstract]\n\u001b[0m\u001b[0;32m    889\u001b[0m                 \u001b[0mwriter\u001b[0m\u001b[1;33m,\u001b[0m \u001b[0mengine\u001b[0m\u001b[1;33m=\u001b[0m\u001b[0mengine\u001b[0m\u001b[1;33m,\u001b[0m \u001b[0mstorage_options\u001b[0m\u001b[1;33m=\u001b[0m\u001b[0mstorage_options\u001b[0m\u001b[1;33m\u001b[0m\u001b[1;33m\u001b[0m\u001b[0m\n\u001b[0;32m    890\u001b[0m             )\n",
      "\u001b[1;32m~\\anaconda3\\lib\\site-packages\\pandas\\io\\excel\\_xlsxwriter.py\u001b[0m in \u001b[0;36m__init__\u001b[1;34m(self, path, engine, date_format, datetime_format, mode, storage_options, if_sheet_exists, engine_kwargs, **kwargs)\u001b[0m\n\u001b[0;32m    189\u001b[0m             \u001b[1;32mraise\u001b[0m \u001b[0mValueError\u001b[0m\u001b[1;33m(\u001b[0m\u001b[1;34m\"Append mode is not supported with xlsxwriter!\"\u001b[0m\u001b[1;33m)\u001b[0m\u001b[1;33m\u001b[0m\u001b[1;33m\u001b[0m\u001b[0m\n\u001b[0;32m    190\u001b[0m \u001b[1;33m\u001b[0m\u001b[0m\n\u001b[1;32m--> 191\u001b[1;33m         super().__init__(\n\u001b[0m\u001b[0;32m    192\u001b[0m             \u001b[0mpath\u001b[0m\u001b[1;33m,\u001b[0m\u001b[1;33m\u001b[0m\u001b[1;33m\u001b[0m\u001b[0m\n\u001b[0;32m    193\u001b[0m             \u001b[0mengine\u001b[0m\u001b[1;33m=\u001b[0m\u001b[0mengine\u001b[0m\u001b[1;33m,\u001b[0m\u001b[1;33m\u001b[0m\u001b[1;33m\u001b[0m\u001b[0m\n",
      "\u001b[1;32m~\\anaconda3\\lib\\site-packages\\pandas\\io\\excel\\_base.py\u001b[0m in \u001b[0;36m__init__\u001b[1;34m(self, path, engine, date_format, datetime_format, mode, storage_options, if_sheet_exists, engine_kwargs, **kwargs)\u001b[0m\n\u001b[0;32m   1104\u001b[0m         )\n\u001b[0;32m   1105\u001b[0m         \u001b[1;32mif\u001b[0m \u001b[1;32mnot\u001b[0m \u001b[0misinstance\u001b[0m\u001b[1;33m(\u001b[0m\u001b[0mpath\u001b[0m\u001b[1;33m,\u001b[0m \u001b[0mExcelWriter\u001b[0m\u001b[1;33m)\u001b[0m\u001b[1;33m:\u001b[0m\u001b[1;33m\u001b[0m\u001b[1;33m\u001b[0m\u001b[0m\n\u001b[1;32m-> 1106\u001b[1;33m             self.handles = get_handle(\n\u001b[0m\u001b[0;32m   1107\u001b[0m                 \u001b[0mpath\u001b[0m\u001b[1;33m,\u001b[0m \u001b[0mmode\u001b[0m\u001b[1;33m,\u001b[0m \u001b[0mstorage_options\u001b[0m\u001b[1;33m=\u001b[0m\u001b[0mstorage_options\u001b[0m\u001b[1;33m,\u001b[0m \u001b[0mis_text\u001b[0m\u001b[1;33m=\u001b[0m\u001b[1;32mFalse\u001b[0m\u001b[1;33m\u001b[0m\u001b[1;33m\u001b[0m\u001b[0m\n\u001b[0;32m   1108\u001b[0m             )\n",
      "\u001b[1;32m~\\anaconda3\\lib\\site-packages\\pandas\\io\\common.py\u001b[0m in \u001b[0;36mget_handle\u001b[1;34m(path_or_buf, mode, encoding, compression, memory_map, is_text, errors, storage_options)\u001b[0m\n\u001b[0;32m    793\u001b[0m         \u001b[1;32melse\u001b[0m\u001b[1;33m:\u001b[0m\u001b[1;33m\u001b[0m\u001b[1;33m\u001b[0m\u001b[0m\n\u001b[0;32m    794\u001b[0m             \u001b[1;31m# Binary mode\u001b[0m\u001b[1;33m\u001b[0m\u001b[1;33m\u001b[0m\u001b[0m\n\u001b[1;32m--> 795\u001b[1;33m             \u001b[0mhandle\u001b[0m \u001b[1;33m=\u001b[0m \u001b[0mopen\u001b[0m\u001b[1;33m(\u001b[0m\u001b[0mhandle\u001b[0m\u001b[1;33m,\u001b[0m \u001b[0mioargs\u001b[0m\u001b[1;33m.\u001b[0m\u001b[0mmode\u001b[0m\u001b[1;33m)\u001b[0m\u001b[1;33m\u001b[0m\u001b[1;33m\u001b[0m\u001b[0m\n\u001b[0m\u001b[0;32m    796\u001b[0m         \u001b[0mhandles\u001b[0m\u001b[1;33m.\u001b[0m\u001b[0mappend\u001b[0m\u001b[1;33m(\u001b[0m\u001b[0mhandle\u001b[0m\u001b[1;33m)\u001b[0m\u001b[1;33m\u001b[0m\u001b[1;33m\u001b[0m\u001b[0m\n\u001b[0;32m    797\u001b[0m \u001b[1;33m\u001b[0m\u001b[0m\n",
      "\u001b[1;31mPermissionError\u001b[0m: [Errno 13] Permission denied: 'df.xlsx'"
     ]
    }
   ],
   "source": [
    "data.to_excel(\"df.xlsx\", index = True, header = True)\n",
    "print('spreadsheet saved :')"
   ]
  },
  {
   "cell_type": "code",
   "execution_count": 39,
   "id": "5ba026e4",
   "metadata": {},
   "outputs": [],
   "source": [
    "driver.close()"
   ]
  },
  {
   "cell_type": "code",
   "execution_count": null,
   "id": "6cfd2e75",
   "metadata": {},
   "outputs": [],
   "source": []
  }
 ],
 "metadata": {
  "kernelspec": {
   "display_name": "Python 3 (ipykernel)",
   "language": "python",
   "name": "python3"
  },
  "language_info": {
   "codemirror_mode": {
    "name": "ipython",
    "version": 3
   },
   "file_extension": ".py",
   "mimetype": "text/x-python",
   "name": "python",
   "nbconvert_exporter": "python",
   "pygments_lexer": "ipython3",
   "version": "3.9.13"
  }
 },
 "nbformat": 4,
 "nbformat_minor": 5
}
